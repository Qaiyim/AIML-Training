{
 "cells": [
  {
   "cell_type": "markdown",
   "id": "d4a61eae-0a69-48a3-97e3-50af1c092143",
   "metadata": {},
   "source": [
    "# First Note Book\n",
    "## Steps to print a Single Line\n",
    "    We will create Code Cell\n",
    "    We will write print command\n",
    "    We will run the cell"
   ]
  },
  {
   "cell_type": "code",
   "execution_count": 3,
   "id": "befab050-fc77-4ba8-b67e-052ff40d083e",
   "metadata": {},
   "outputs": [
    {
     "name": "stdout",
     "output_type": "stream",
     "text": [
      "Welcome to Python NoteBook\n"
     ]
    }
   ],
   "source": [
    "print('Welcome to Python NoteBook')"
   ]
  },
  {
   "cell_type": "markdown",
   "id": "48aecc8a-7f55-4f98-92f8-969fecf0630d",
   "metadata": {},
   "source": [
    "## For loop example"
   ]
  },
  {
   "cell_type": "code",
   "execution_count": 5,
   "id": "9cfa3755-8de1-48ee-874a-50e90edbcf34",
   "metadata": {},
   "outputs": [
    {
     "name": "stdout",
     "output_type": "stream",
     "text": [
      "1\t2\t3\t4\t5\t6\t7\t8\t9\t10\t11\t12\t13\t14\t15\t16\t17\t18\t19\t20\t21\t22\t23\t24\t25\t26\t27\t28\t29\t30\t31\t32\t33\t34\t35\t36\t37\t38\t39\t40\t41\t42\t43\t44\t45\t46\t47\t48\t49\t50\t51\t52\t53\t54\t55\t56\t57\t58\t59\t60\t61\t62\t63\t64\t65\t66\t67\t68\t69\t70\t71\t72\t73\t74\t75\t76\t77\t78\t79\t80\t81\t82\t83\t84\t85\t86\t87\t88\t89\t90\t91\t92\t93\t94\t95\t96\t97\t98\t99\t100\t"
     ]
    }
   ],
   "source": [
    "for num in range(1,101):\n",
    "    print(num,end='\\t')"
   ]
  },
  {
   "cell_type": "code",
   "execution_count": 10,
   "id": "980e1c3f-f13d-4372-9813-448e254f8f8f",
   "metadata": {},
   "outputs": [],
   "source": [
    "players=('Ronaldo','Messi','Badrol','Marlon','Safiq','Qaiyim','Intan')"
   ]
  },
  {
   "cell_type": "code",
   "execution_count": 11,
   "id": "f8a946ab-fa92-4d43-ae0c-7f754f2dc00f",
   "metadata": {},
   "outputs": [
    {
     "name": "stdout",
     "output_type": "stream",
     "text": [
      "Ronaldo\n",
      "Messi\n",
      "Badrol\n",
      "Marlon\n",
      "Safiq\n",
      "Qaiyim\n",
      "Intan\n"
     ]
    }
   ],
   "source": [
    "for player in players:\n",
    "    print (player)"
   ]
  },
  {
   "cell_type": "code",
   "execution_count": 12,
   "id": "a96323e0-2fc2-453d-bc9b-6a01d6df7dd6",
   "metadata": {
    "jupyter": {
     "source_hidden": true
    }
   },
   "outputs": [
    {
     "name": "stdout",
     "output_type": "stream",
     "text": [
      "Selamat Datang\n"
     ]
    }
   ],
   "source": [
    "print('Selamat Datang')"
   ]
  },
  {
   "cell_type": "code",
   "execution_count": 13,
   "id": "881216a1-fa18-4244-8e20-6fe7f3f2da8d",
   "metadata": {},
   "outputs": [
    {
     "name": "stdout",
     "output_type": "stream",
     "text": [
      "Welcome Again\n",
      "One More thing\n"
     ]
    }
   ],
   "source": [
    "print('Welcome Again')\n",
    "print('One More thing')"
   ]
  },
  {
   "cell_type": "code",
   "execution_count": null,
   "id": "db3206c1-d010-4624-8c49-d6f88fef8a0d",
   "metadata": {},
   "outputs": [],
   "source": []
  }
 ],
 "metadata": {
  "kernelspec": {
   "display_name": "Python 3 (ipykernel)",
   "language": "python",
   "name": "python3"
  },
  "language_info": {
   "codemirror_mode": {
    "name": "ipython",
    "version": 3
   },
   "file_extension": ".py",
   "mimetype": "text/x-python",
   "name": "python",
   "nbconvert_exporter": "python",
   "pygments_lexer": "ipython3",
   "version": "3.13.5"
  }
 },
 "nbformat": 4,
 "nbformat_minor": 5
}
