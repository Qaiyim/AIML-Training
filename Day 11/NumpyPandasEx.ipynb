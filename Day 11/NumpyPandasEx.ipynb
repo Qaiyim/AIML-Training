{
 "cells": [
  {
   "cell_type": "code",
   "execution_count": 1,
   "id": "6245b294-ee11-4c72-9cae-f2dfa685a4a1",
   "metadata": {},
   "outputs": [],
   "source": [
    "import pandas as pd\n",
    "import numpy as np"
   ]
  },
  {
   "cell_type": "code",
   "execution_count": 2,
   "id": "ce4f163a-eb83-4ba9-9e56-5d786d4c60db",
   "metadata": {},
   "outputs": [
    {
     "name": "stdout",
     "output_type": "stream",
     "text": [
      "     Name  Age  Marks\n",
      "0    John   20     85\n",
      "1   Alice   22     90\n",
      "2     Bob   21     78\n",
      "3    Sara   23     92\n",
      "4  Qaiyim   26     90\n",
      "5   Intan   25     89\n"
     ]
    }
   ],
   "source": [
    "df=pd.read_excel('students.xlsx')\n",
    "print(df)"
   ]
  },
  {
   "cell_type": "code",
   "execution_count": 3,
   "id": "a8b05b5f-b685-443c-af97-0507ce2425a4",
   "metadata": {},
   "outputs": [],
   "source": [
    "marks=df['Marks'].to_numpy()"
   ]
  },
  {
   "cell_type": "code",
   "execution_count": 4,
   "id": "b2c42d29-7e38-460b-83ae-42fa4ebe3659",
   "metadata": {},
   "outputs": [
    {
     "name": "stdout",
     "output_type": "stream",
     "text": [
      "Numpy Array of Marks\n",
      "[85 90 78 92 90 89]\n"
     ]
    }
   ],
   "source": [
    "print('Numpy Array of Marks')\n",
    "print(marks)"
   ]
  },
  {
   "cell_type": "code",
   "execution_count": 5,
   "id": "6331bbb8-d629-4d72-8a86-300291f3c7b6",
   "metadata": {},
   "outputs": [
    {
     "name": "stdout",
     "output_type": "stream",
     "text": [
      "Highest Marks:  92\n"
     ]
    }
   ],
   "source": [
    "print('Highest Marks: ',np.max(marks))"
   ]
  },
  {
   "cell_type": "code",
   "execution_count": 6,
   "id": "3542f8ef-244b-467a-8605-cf71168dcb50",
   "metadata": {},
   "outputs": [
    {
     "name": "stdout",
     "output_type": "stream",
     "text": [
      "Lowest Marks:  78\n"
     ]
    }
   ],
   "source": [
    "print('Lowest Marks: ',np.min(marks))"
   ]
  },
  {
   "cell_type": "code",
   "execution_count": 7,
   "id": "266c1c09-0c89-4bd5-bbb2-f7b3639f2ba5",
   "metadata": {},
   "outputs": [
    {
     "name": "stdout",
     "output_type": "stream",
     "text": [
      "Average Marks:  87.33333333333333\n"
     ]
    }
   ],
   "source": [
    "print('Average Marks: ',np.mean(marks))"
   ]
  },
  {
   "cell_type": "markdown",
   "id": "619a8094-d93b-4cb4-8064-dd91976d68c2",
   "metadata": {},
   "source": [
    "# .loc: Label Based\n",
    "# .iloc: Index Based"
   ]
  },
  {
   "cell_type": "code",
   "execution_count": 8,
   "id": "01edd001-1fc6-4696-96dd-138285e70352",
   "metadata": {},
   "outputs": [
    {
     "name": "stdout",
     "output_type": "stream",
     "text": [
      "     Name  Age  Marks\n",
      "0    John   20     85\n",
      "1   Alice   22     90\n",
      "2     Bob   21     78\n",
      "3    Sara   23     92\n",
      "4  Qaiyim   26     90\n",
      "5   Intan   25     89\n"
     ]
    }
   ],
   "source": [
    "print(df)"
   ]
  },
  {
   "cell_type": "code",
   "execution_count": 14,
   "id": "52449af0-c2c3-4a74-ab63-9db875e57c20",
   "metadata": {},
   "outputs": [
    {
     "name": "stdout",
     "output_type": "stream",
     "text": [
      "Name     Bob\n",
      "Marks     78\n",
      "Name: 2, dtype: object\n"
     ]
    }
   ],
   "source": [
    "print(df.loc[2,['Name','Marks']])"
   ]
  },
  {
   "cell_type": "code",
   "execution_count": 18,
   "id": "d2d3163f-1f22-4efc-b504-161884601aa5",
   "metadata": {},
   "outputs": [
    {
     "name": "stdout",
     "output_type": "stream",
     "text": [
      "Name     Qaiyim\n",
      "Marks        90\n",
      "Name: 4, dtype: object\n"
     ]
    }
   ],
   "source": [
    "print(df.iloc[4,[0,2]])"
   ]
  },
  {
   "cell_type": "markdown",
   "id": "8e209d07-a93c-4bc4-b064-03049e58953b",
   "metadata": {},
   "source": [
    "# Axis in Numpy:\n",
    "    ## Axis 0: vertical direction: works column wise\n",
    "    ## AXis 1: horizontal direction: works rows wise"
   ]
  },
  {
   "cell_type": "markdown",
   "id": "09568f2a-197a-4fbc-bd80-dfd8f384e460",
   "metadata": {},
   "source": [
    "# We have two students marks in 3 subjects\n",
    "    # [45,65,78],[67,89,90]"
   ]
  },
  {
   "cell_type": "code",
   "execution_count": 24,
   "id": "0096010d-b454-487e-bed1-20851173ccc3",
   "metadata": {},
   "outputs": [],
   "source": [
    "marks_array=np.array([[7,4,9],[3,6,9]])"
   ]
  },
  {
   "cell_type": "code",
   "execution_count": 25,
   "id": "a51a6217-3fb2-4156-b09d-820081441af4",
   "metadata": {},
   "outputs": [
    {
     "name": "stdout",
     "output_type": "stream",
     "text": [
      "[[7 4 9]\n",
      " [3 6 9]]\n"
     ]
    }
   ],
   "source": [
    "print(marks_array)"
   ]
  },
  {
   "cell_type": "code",
   "execution_count": 26,
   "id": "7481b9e8-29bf-42d2-a5fd-d928b4661eec",
   "metadata": {},
   "outputs": [
    {
     "name": "stdout",
     "output_type": "stream",
     "text": [
      "Sum down eaxh column [10 10 18]\n"
     ]
    }
   ],
   "source": [
    "print('Sum down eaxh column',np.sum(marks_array,axis=0))"
   ]
  },
  {
   "cell_type": "code",
   "execution_count": 27,
   "id": "1346c473-15fc-481c-876f-0f43e552e817",
   "metadata": {},
   "outputs": [
    {
     "name": "stdout",
     "output_type": "stream",
     "text": [
      "Sum down eaxh row [20 18]\n"
     ]
    }
   ],
   "source": [
    "print('Sum down eaxh row',np.sum(marks_array,axis=1))"
   ]
  },
  {
   "cell_type": "code",
   "execution_count": 28,
   "id": "ee2c69e0-04e3-4b87-a284-a6aafe38dd1a",
   "metadata": {},
   "outputs": [
    {
     "name": "stdout",
     "output_type": "stream",
     "text": [
      "Numpy Array of Marks\n",
      "[85 90 78 92 90 89]\n"
     ]
    }
   ],
   "source": [
    "print('Numpy Array of Marks')\n",
    "print(marks)"
   ]
  },
  {
   "cell_type": "code",
   "execution_count": 29,
   "id": "7801f54f-1879-48d9-b430-da3b26a921ab",
   "metadata": {},
   "outputs": [
    {
     "name": "stdout",
     "output_type": "stream",
     "text": [
      "     Name  Age  Marks\n",
      "0    John   20     85\n",
      "1   Alice   22     90\n",
      "2     Bob   21     78\n",
      "3    Sara   23     92\n",
      "4  Qaiyim   26     90\n",
      "5   Intan   25     89\n"
     ]
    }
   ],
   "source": [
    "print(df)"
   ]
  },
  {
   "cell_type": "markdown",
   "id": "0eb8fd41-1d3b-4bbb-9b11-ef1f023ed512",
   "metadata": {},
   "source": [
    "# Find the student Name who got highest marks"
   ]
  },
  {
   "cell_type": "code",
   "execution_count": 31,
   "id": "00bf748f-f5d1-4086-b262-6dd9ce66c3c8",
   "metadata": {},
   "outputs": [
    {
     "name": "stdout",
     "output_type": "stream",
     "text": [
      "Sara\n"
     ]
    }
   ],
   "source": [
    "highest=df.loc[df['Marks'].idxmax(),'Name']\n",
    "print(highest)"
   ]
  },
  {
   "cell_type": "code",
   "execution_count": 32,
   "id": "e9378529-10cc-4782-b196-1d2b5a88b586",
   "metadata": {},
   "outputs": [
    {
     "name": "stdout",
     "output_type": "stream",
     "text": [
      "Bob\n"
     ]
    }
   ],
   "source": [
    "lowest=df.loc[df['Marks'].idxmin(),'Name']\n",
    "print(lowest)"
   ]
  },
  {
   "cell_type": "code",
   "execution_count": 33,
   "id": "110f8e14-cd01-4be3-842d-b0d5acd24ff3",
   "metadata": {},
   "outputs": [
    {
     "name": "stdout",
     "output_type": "stream",
     "text": [
      "Next Example\n"
     ]
    }
   ],
   "source": [
    "print('Next Example')"
   ]
  },
  {
   "cell_type": "code",
   "execution_count": 37,
   "id": "6bb74e93-cb41-4107-9a43-3a718a14aa24",
   "metadata": {},
   "outputs": [
    {
     "name": "stdout",
     "output_type": "stream",
     "text": [
      "Highest in the class is  Sara\n"
     ]
    }
   ],
   "source": [
    "top_index=df['Marks'].idxmax()\n",
    "top_students=df.iloc[top_index,df.columns.get_loc('Name')]\n",
    "print('Highest in the class is ',top_students)"
   ]
  },
  {
   "cell_type": "code",
   "execution_count": null,
   "id": "c7b775be-e104-4cc6-a586-eaab7fb1a87f",
   "metadata": {},
   "outputs": [],
   "source": []
  }
 ],
 "metadata": {
  "kernelspec": {
   "display_name": "Python [conda env:base] *",
   "language": "python",
   "name": "conda-base-py"
  },
  "language_info": {
   "codemirror_mode": {
    "name": "ipython",
    "version": 3
   },
   "file_extension": ".py",
   "mimetype": "text/x-python",
   "name": "python",
   "nbconvert_exporter": "python",
   "pygments_lexer": "ipython3",
   "version": "3.13.5"
  }
 },
 "nbformat": 4,
 "nbformat_minor": 5
}
