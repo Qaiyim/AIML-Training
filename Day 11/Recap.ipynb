{
 "cells": [
  {
   "cell_type": "markdown",
   "id": "cd985291-90b8-4239-8e0d-07963294a2ce",
   "metadata": {},
   "source": [
    "# Basic Panda Example to read out from excel file"
   ]
  },
  {
   "cell_type": "code",
   "execution_count": 1,
   "id": "69c05d76-0124-4925-b5dc-7c59ee5d2f17",
   "metadata": {},
   "outputs": [],
   "source": [
    "import pandas as pd"
   ]
  },
  {
   "cell_type": "code",
   "execution_count": 2,
   "id": "d2aaf774-9807-4454-97b9-82936cad9b4d",
   "metadata": {},
   "outputs": [],
   "source": [
    "df=pd.read_excel('students.xlsx')"
   ]
  },
  {
   "cell_type": "code",
   "execution_count": 4,
   "id": "8e24b4cc-dd75-46da-9a94-2e484b659d95",
   "metadata": {},
   "outputs": [
    {
     "name": "stdout",
     "output_type": "stream",
     "text": [
      "Data Frame as follows\n"
     ]
    },
    {
     "data": {
      "text/html": [
       "<div>\n",
       "<style scoped>\n",
       "    .dataframe tbody tr th:only-of-type {\n",
       "        vertical-align: middle;\n",
       "    }\n",
       "\n",
       "    .dataframe tbody tr th {\n",
       "        vertical-align: top;\n",
       "    }\n",
       "\n",
       "    .dataframe thead th {\n",
       "        text-align: right;\n",
       "    }\n",
       "</style>\n",
       "<table border=\"1\" class=\"dataframe\">\n",
       "  <thead>\n",
       "    <tr style=\"text-align: right;\">\n",
       "      <th></th>\n",
       "      <th>Name</th>\n",
       "      <th>Age</th>\n",
       "      <th>Marks</th>\n",
       "    </tr>\n",
       "  </thead>\n",
       "  <tbody>\n",
       "    <tr>\n",
       "      <th>0</th>\n",
       "      <td>John</td>\n",
       "      <td>20</td>\n",
       "      <td>85</td>\n",
       "    </tr>\n",
       "    <tr>\n",
       "      <th>1</th>\n",
       "      <td>Alice</td>\n",
       "      <td>22</td>\n",
       "      <td>90</td>\n",
       "    </tr>\n",
       "    <tr>\n",
       "      <th>2</th>\n",
       "      <td>Bob</td>\n",
       "      <td>21</td>\n",
       "      <td>78</td>\n",
       "    </tr>\n",
       "    <tr>\n",
       "      <th>3</th>\n",
       "      <td>Sara</td>\n",
       "      <td>23</td>\n",
       "      <td>92</td>\n",
       "    </tr>\n",
       "    <tr>\n",
       "      <th>4</th>\n",
       "      <td>Qaiyim</td>\n",
       "      <td>26</td>\n",
       "      <td>90</td>\n",
       "    </tr>\n",
       "    <tr>\n",
       "      <th>5</th>\n",
       "      <td>Intan</td>\n",
       "      <td>25</td>\n",
       "      <td>89</td>\n",
       "    </tr>\n",
       "  </tbody>\n",
       "</table>\n",
       "</div>"
      ],
      "text/plain": [
       "     Name  Age  Marks\n",
       "0    John   20     85\n",
       "1   Alice   22     90\n",
       "2     Bob   21     78\n",
       "3    Sara   23     92\n",
       "4  Qaiyim   26     90\n",
       "5   Intan   25     89"
      ]
     },
     "execution_count": 4,
     "metadata": {},
     "output_type": "execute_result"
    }
   ],
   "source": [
    "print('Data Frame as follows')\n",
    "df"
   ]
  },
  {
   "cell_type": "code",
   "execution_count": 7,
   "id": "6a7f259e-4c53-440a-ab8c-09374b25195f",
   "metadata": {},
   "outputs": [],
   "source": [
    "dfpatients=pd.read_csv('C:/Users/Admin/Desktop/AIMLTraining/AIML-Training/Day 10/patients.csv')\n",
    "                       "
   ]
  },
  {
   "cell_type": "code",
   "execution_count": 8,
   "id": "056c3bc0-b2d7-4f09-9e7d-3039de83c041",
   "metadata": {},
   "outputs": [
    {
     "data": {
      "text/html": [
       "<div>\n",
       "<style scoped>\n",
       "    .dataframe tbody tr th:only-of-type {\n",
       "        vertical-align: middle;\n",
       "    }\n",
       "\n",
       "    .dataframe tbody tr th {\n",
       "        vertical-align: top;\n",
       "    }\n",
       "\n",
       "    .dataframe thead th {\n",
       "        text-align: right;\n",
       "    }\n",
       "</style>\n",
       "<table border=\"1\" class=\"dataframe\">\n",
       "  <thead>\n",
       "    <tr style=\"text-align: right;\">\n",
       "      <th></th>\n",
       "      <th>patient_id</th>\n",
       "      <th>name</th>\n",
       "      <th>age</th>\n",
       "      <th>arrival_date</th>\n",
       "      <th>departure_date</th>\n",
       "      <th>service</th>\n",
       "      <th>satisfaction</th>\n",
       "    </tr>\n",
       "  </thead>\n",
       "  <tbody>\n",
       "    <tr>\n",
       "      <th>0</th>\n",
       "      <td>PAT-09484753</td>\n",
       "      <td>Richard Rodriguez</td>\n",
       "      <td>24</td>\n",
       "      <td>3/16/2025</td>\n",
       "      <td>3/22/2025</td>\n",
       "      <td>surgery</td>\n",
       "      <td>61</td>\n",
       "    </tr>\n",
       "    <tr>\n",
       "      <th>1</th>\n",
       "      <td>PAT-f0644084</td>\n",
       "      <td>Shannon Walker</td>\n",
       "      <td>6</td>\n",
       "      <td>12/13/2025</td>\n",
       "      <td>12/14/2025</td>\n",
       "      <td>surgery</td>\n",
       "      <td>83</td>\n",
       "    </tr>\n",
       "    <tr>\n",
       "      <th>2</th>\n",
       "      <td>PAT-ac6162e4</td>\n",
       "      <td>Julia Torres</td>\n",
       "      <td>24</td>\n",
       "      <td>6/29/2025</td>\n",
       "      <td>7/5/2025</td>\n",
       "      <td>general_medicine</td>\n",
       "      <td>83</td>\n",
       "    </tr>\n",
       "    <tr>\n",
       "      <th>3</th>\n",
       "      <td>PAT-3dda2bb5</td>\n",
       "      <td>Crystal Johnson</td>\n",
       "      <td>32</td>\n",
       "      <td>10/12/2025</td>\n",
       "      <td>10/23/2025</td>\n",
       "      <td>emergency</td>\n",
       "      <td>81</td>\n",
       "    </tr>\n",
       "    <tr>\n",
       "      <th>4</th>\n",
       "      <td>PAT-08591375</td>\n",
       "      <td>Garrett Lin</td>\n",
       "      <td>25</td>\n",
       "      <td>2/18/2025</td>\n",
       "      <td>2/25/2025</td>\n",
       "      <td>ICU</td>\n",
       "      <td>76</td>\n",
       "    </tr>\n",
       "    <tr>\n",
       "      <th>...</th>\n",
       "      <td>...</td>\n",
       "      <td>...</td>\n",
       "      <td>...</td>\n",
       "      <td>...</td>\n",
       "      <td>...</td>\n",
       "      <td>...</td>\n",
       "      <td>...</td>\n",
       "    </tr>\n",
       "    <tr>\n",
       "      <th>995</th>\n",
       "      <td>PAT-a01bf534</td>\n",
       "      <td>Amber Vang</td>\n",
       "      <td>26</td>\n",
       "      <td>12/2/2025</td>\n",
       "      <td>12/4/2025</td>\n",
       "      <td>emergency</td>\n",
       "      <td>91</td>\n",
       "    </tr>\n",
       "    <tr>\n",
       "      <th>996</th>\n",
       "      <td>PAT-87fa07bd</td>\n",
       "      <td>Martha Smith</td>\n",
       "      <td>89</td>\n",
       "      <td>11/18/2025</td>\n",
       "      <td>11/30/2025</td>\n",
       "      <td>emergency</td>\n",
       "      <td>99</td>\n",
       "    </tr>\n",
       "    <tr>\n",
       "      <th>997</th>\n",
       "      <td>PAT-8f07e894</td>\n",
       "      <td>Jennifer James</td>\n",
       "      <td>72</td>\n",
       "      <td>12/12/2025</td>\n",
       "      <td>12/21/2025</td>\n",
       "      <td>ICU</td>\n",
       "      <td>69</td>\n",
       "    </tr>\n",
       "    <tr>\n",
       "      <th>998</th>\n",
       "      <td>PAT-4ae301e1</td>\n",
       "      <td>Kara Hernandez</td>\n",
       "      <td>47</td>\n",
       "      <td>2/8/2025</td>\n",
       "      <td>2/20/2025</td>\n",
       "      <td>ICU</td>\n",
       "      <td>61</td>\n",
       "    </tr>\n",
       "    <tr>\n",
       "      <th>999</th>\n",
       "      <td>PAT-e2ef9c5f</td>\n",
       "      <td>Lorraine Turner</td>\n",
       "      <td>64</td>\n",
       "      <td>5/4/2025</td>\n",
       "      <td>5/8/2025</td>\n",
       "      <td>general_medicine</td>\n",
       "      <td>83</td>\n",
       "    </tr>\n",
       "  </tbody>\n",
       "</table>\n",
       "<p>1000 rows × 7 columns</p>\n",
       "</div>"
      ],
      "text/plain": [
       "       patient_id               name  age arrival_date departure_date  \\\n",
       "0    PAT-09484753  Richard Rodriguez   24    3/16/2025      3/22/2025   \n",
       "1    PAT-f0644084     Shannon Walker    6   12/13/2025     12/14/2025   \n",
       "2    PAT-ac6162e4       Julia Torres   24    6/29/2025       7/5/2025   \n",
       "3    PAT-3dda2bb5    Crystal Johnson   32   10/12/2025     10/23/2025   \n",
       "4    PAT-08591375        Garrett Lin   25    2/18/2025      2/25/2025   \n",
       "..            ...                ...  ...          ...            ...   \n",
       "995  PAT-a01bf534         Amber Vang   26    12/2/2025      12/4/2025   \n",
       "996  PAT-87fa07bd       Martha Smith   89   11/18/2025     11/30/2025   \n",
       "997  PAT-8f07e894     Jennifer James   72   12/12/2025     12/21/2025   \n",
       "998  PAT-4ae301e1     Kara Hernandez   47     2/8/2025      2/20/2025   \n",
       "999  PAT-e2ef9c5f    Lorraine Turner   64     5/4/2025       5/8/2025   \n",
       "\n",
       "              service  satisfaction  \n",
       "0             surgery            61  \n",
       "1             surgery            83  \n",
       "2    general_medicine            83  \n",
       "3           emergency            81  \n",
       "4                 ICU            76  \n",
       "..                ...           ...  \n",
       "995         emergency            91  \n",
       "996         emergency            99  \n",
       "997               ICU            69  \n",
       "998               ICU            61  \n",
       "999  general_medicine            83  \n",
       "\n",
       "[1000 rows x 7 columns]"
      ]
     },
     "execution_count": 8,
     "metadata": {},
     "output_type": "execute_result"
    }
   ],
   "source": [
    "dfpatients"
   ]
  },
  {
   "cell_type": "code",
   "execution_count": 9,
   "id": "46dfcda2-bd18-45ff-9edb-e0e88df45614",
   "metadata": {},
   "outputs": [
    {
     "data": {
      "text/plain": [
       "0      Richard Rodriguez\n",
       "1         Shannon Walker\n",
       "2           Julia Torres\n",
       "3        Crystal Johnson\n",
       "4            Garrett Lin\n",
       "             ...        \n",
       "995           Amber Vang\n",
       "996         Martha Smith\n",
       "997       Jennifer James\n",
       "998       Kara Hernandez\n",
       "999      Lorraine Turner\n",
       "Name: name, Length: 1000, dtype: object"
      ]
     },
     "execution_count": 9,
     "metadata": {},
     "output_type": "execute_result"
    }
   ],
   "source": [
    "dfpatients['name']"
   ]
  },
  {
   "cell_type": "markdown",
   "id": "d20372e8-339c-4925-9310-091bd3233ff1",
   "metadata": {},
   "source": [
    "## head in dataframe"
   ]
  },
  {
   "cell_type": "code",
   "execution_count": 10,
   "id": "0b9fde5a-af21-4f5e-9e4e-2c698612948f",
   "metadata": {},
   "outputs": [
    {
     "data": {
      "text/html": [
       "<div>\n",
       "<style scoped>\n",
       "    .dataframe tbody tr th:only-of-type {\n",
       "        vertical-align: middle;\n",
       "    }\n",
       "\n",
       "    .dataframe tbody tr th {\n",
       "        vertical-align: top;\n",
       "    }\n",
       "\n",
       "    .dataframe thead th {\n",
       "        text-align: right;\n",
       "    }\n",
       "</style>\n",
       "<table border=\"1\" class=\"dataframe\">\n",
       "  <thead>\n",
       "    <tr style=\"text-align: right;\">\n",
       "      <th></th>\n",
       "      <th>Name</th>\n",
       "      <th>Age</th>\n",
       "      <th>Marks</th>\n",
       "    </tr>\n",
       "  </thead>\n",
       "  <tbody>\n",
       "    <tr>\n",
       "      <th>0</th>\n",
       "      <td>John</td>\n",
       "      <td>20</td>\n",
       "      <td>85</td>\n",
       "    </tr>\n",
       "    <tr>\n",
       "      <th>1</th>\n",
       "      <td>Alice</td>\n",
       "      <td>22</td>\n",
       "      <td>90</td>\n",
       "    </tr>\n",
       "    <tr>\n",
       "      <th>2</th>\n",
       "      <td>Bob</td>\n",
       "      <td>21</td>\n",
       "      <td>78</td>\n",
       "    </tr>\n",
       "    <tr>\n",
       "      <th>3</th>\n",
       "      <td>Sara</td>\n",
       "      <td>23</td>\n",
       "      <td>92</td>\n",
       "    </tr>\n",
       "    <tr>\n",
       "      <th>4</th>\n",
       "      <td>Qaiyim</td>\n",
       "      <td>26</td>\n",
       "      <td>90</td>\n",
       "    </tr>\n",
       "  </tbody>\n",
       "</table>\n",
       "</div>"
      ],
      "text/plain": [
       "     Name  Age  Marks\n",
       "0    John   20     85\n",
       "1   Alice   22     90\n",
       "2     Bob   21     78\n",
       "3    Sara   23     92\n",
       "4  Qaiyim   26     90"
      ]
     },
     "execution_count": 10,
     "metadata": {},
     "output_type": "execute_result"
    }
   ],
   "source": [
    "df.head()"
   ]
  },
  {
   "cell_type": "code",
   "execution_count": 12,
   "id": "d8671150-d3dd-459e-9e32-b08ea4e9e622",
   "metadata": {},
   "outputs": [
    {
     "data": {
      "text/html": [
       "<div>\n",
       "<style scoped>\n",
       "    .dataframe tbody tr th:only-of-type {\n",
       "        vertical-align: middle;\n",
       "    }\n",
       "\n",
       "    .dataframe tbody tr th {\n",
       "        vertical-align: top;\n",
       "    }\n",
       "\n",
       "    .dataframe thead th {\n",
       "        text-align: right;\n",
       "    }\n",
       "</style>\n",
       "<table border=\"1\" class=\"dataframe\">\n",
       "  <thead>\n",
       "    <tr style=\"text-align: right;\">\n",
       "      <th></th>\n",
       "      <th>patient_id</th>\n",
       "      <th>name</th>\n",
       "      <th>age</th>\n",
       "      <th>arrival_date</th>\n",
       "      <th>departure_date</th>\n",
       "      <th>service</th>\n",
       "      <th>satisfaction</th>\n",
       "    </tr>\n",
       "  </thead>\n",
       "  <tbody>\n",
       "    <tr>\n",
       "      <th>0</th>\n",
       "      <td>PAT-09484753</td>\n",
       "      <td>Richard Rodriguez</td>\n",
       "      <td>24</td>\n",
       "      <td>3/16/2025</td>\n",
       "      <td>3/22/2025</td>\n",
       "      <td>surgery</td>\n",
       "      <td>61</td>\n",
       "    </tr>\n",
       "    <tr>\n",
       "      <th>1</th>\n",
       "      <td>PAT-f0644084</td>\n",
       "      <td>Shannon Walker</td>\n",
       "      <td>6</td>\n",
       "      <td>12/13/2025</td>\n",
       "      <td>12/14/2025</td>\n",
       "      <td>surgery</td>\n",
       "      <td>83</td>\n",
       "    </tr>\n",
       "    <tr>\n",
       "      <th>2</th>\n",
       "      <td>PAT-ac6162e4</td>\n",
       "      <td>Julia Torres</td>\n",
       "      <td>24</td>\n",
       "      <td>6/29/2025</td>\n",
       "      <td>7/5/2025</td>\n",
       "      <td>general_medicine</td>\n",
       "      <td>83</td>\n",
       "    </tr>\n",
       "    <tr>\n",
       "      <th>3</th>\n",
       "      <td>PAT-3dda2bb5</td>\n",
       "      <td>Crystal Johnson</td>\n",
       "      <td>32</td>\n",
       "      <td>10/12/2025</td>\n",
       "      <td>10/23/2025</td>\n",
       "      <td>emergency</td>\n",
       "      <td>81</td>\n",
       "    </tr>\n",
       "    <tr>\n",
       "      <th>4</th>\n",
       "      <td>PAT-08591375</td>\n",
       "      <td>Garrett Lin</td>\n",
       "      <td>25</td>\n",
       "      <td>2/18/2025</td>\n",
       "      <td>2/25/2025</td>\n",
       "      <td>ICU</td>\n",
       "      <td>76</td>\n",
       "    </tr>\n",
       "  </tbody>\n",
       "</table>\n",
       "</div>"
      ],
      "text/plain": [
       "     patient_id               name  age arrival_date departure_date  \\\n",
       "0  PAT-09484753  Richard Rodriguez   24    3/16/2025      3/22/2025   \n",
       "1  PAT-f0644084     Shannon Walker    6   12/13/2025     12/14/2025   \n",
       "2  PAT-ac6162e4       Julia Torres   24    6/29/2025       7/5/2025   \n",
       "3  PAT-3dda2bb5    Crystal Johnson   32   10/12/2025     10/23/2025   \n",
       "4  PAT-08591375        Garrett Lin   25    2/18/2025      2/25/2025   \n",
       "\n",
       "            service  satisfaction  \n",
       "0           surgery            61  \n",
       "1           surgery            83  \n",
       "2  general_medicine            83  \n",
       "3         emergency            81  \n",
       "4               ICU            76  "
      ]
     },
     "execution_count": 12,
     "metadata": {},
     "output_type": "execute_result"
    }
   ],
   "source": [
    "dfpatients.head()"
   ]
  },
  {
   "cell_type": "code",
   "execution_count": 13,
   "id": "c2b8d329-1ae2-43c5-a616-fb2fb67705d1",
   "metadata": {},
   "outputs": [
    {
     "data": {
      "text/html": [
       "<div>\n",
       "<style scoped>\n",
       "    .dataframe tbody tr th:only-of-type {\n",
       "        vertical-align: middle;\n",
       "    }\n",
       "\n",
       "    .dataframe tbody tr th {\n",
       "        vertical-align: top;\n",
       "    }\n",
       "\n",
       "    .dataframe thead th {\n",
       "        text-align: right;\n",
       "    }\n",
       "</style>\n",
       "<table border=\"1\" class=\"dataframe\">\n",
       "  <thead>\n",
       "    <tr style=\"text-align: right;\">\n",
       "      <th></th>\n",
       "      <th>patient_id</th>\n",
       "      <th>name</th>\n",
       "      <th>age</th>\n",
       "      <th>arrival_date</th>\n",
       "      <th>departure_date</th>\n",
       "      <th>service</th>\n",
       "      <th>satisfaction</th>\n",
       "    </tr>\n",
       "  </thead>\n",
       "  <tbody>\n",
       "    <tr>\n",
       "      <th>0</th>\n",
       "      <td>PAT-09484753</td>\n",
       "      <td>Richard Rodriguez</td>\n",
       "      <td>24</td>\n",
       "      <td>3/16/2025</td>\n",
       "      <td>3/22/2025</td>\n",
       "      <td>surgery</td>\n",
       "      <td>61</td>\n",
       "    </tr>\n",
       "    <tr>\n",
       "      <th>1</th>\n",
       "      <td>PAT-f0644084</td>\n",
       "      <td>Shannon Walker</td>\n",
       "      <td>6</td>\n",
       "      <td>12/13/2025</td>\n",
       "      <td>12/14/2025</td>\n",
       "      <td>surgery</td>\n",
       "      <td>83</td>\n",
       "    </tr>\n",
       "  </tbody>\n",
       "</table>\n",
       "</div>"
      ],
      "text/plain": [
       "     patient_id               name  age arrival_date departure_date  service  \\\n",
       "0  PAT-09484753  Richard Rodriguez   24    3/16/2025      3/22/2025  surgery   \n",
       "1  PAT-f0644084     Shannon Walker    6   12/13/2025     12/14/2025  surgery   \n",
       "\n",
       "   satisfaction  \n",
       "0            61  \n",
       "1            83  "
      ]
     },
     "execution_count": 13,
     "metadata": {},
     "output_type": "execute_result"
    }
   ],
   "source": [
    "dfpatients.head(2)"
   ]
  },
  {
   "cell_type": "markdown",
   "id": "46591fba-2074-457f-8aa1-fdf53321d4e9",
   "metadata": {},
   "source": [
    "# tail Example"
   ]
  },
  {
   "cell_type": "code",
   "execution_count": 14,
   "id": "605a8af8-65ce-41f1-8357-e2d2145c42bb",
   "metadata": {},
   "outputs": [
    {
     "name": "stdout",
     "output_type": "stream",
     "text": [
      "Last Two students in Excel Sheet\n"
     ]
    },
    {
     "data": {
      "text/html": [
       "<div>\n",
       "<style scoped>\n",
       "    .dataframe tbody tr th:only-of-type {\n",
       "        vertical-align: middle;\n",
       "    }\n",
       "\n",
       "    .dataframe tbody tr th {\n",
       "        vertical-align: top;\n",
       "    }\n",
       "\n",
       "    .dataframe thead th {\n",
       "        text-align: right;\n",
       "    }\n",
       "</style>\n",
       "<table border=\"1\" class=\"dataframe\">\n",
       "  <thead>\n",
       "    <tr style=\"text-align: right;\">\n",
       "      <th></th>\n",
       "      <th>Name</th>\n",
       "      <th>Age</th>\n",
       "      <th>Marks</th>\n",
       "    </tr>\n",
       "  </thead>\n",
       "  <tbody>\n",
       "    <tr>\n",
       "      <th>4</th>\n",
       "      <td>Qaiyim</td>\n",
       "      <td>26</td>\n",
       "      <td>90</td>\n",
       "    </tr>\n",
       "    <tr>\n",
       "      <th>5</th>\n",
       "      <td>Intan</td>\n",
       "      <td>25</td>\n",
       "      <td>89</td>\n",
       "    </tr>\n",
       "  </tbody>\n",
       "</table>\n",
       "</div>"
      ],
      "text/plain": [
       "     Name  Age  Marks\n",
       "4  Qaiyim   26     90\n",
       "5   Intan   25     89"
      ]
     },
     "execution_count": 14,
     "metadata": {},
     "output_type": "execute_result"
    }
   ],
   "source": [
    "print('Last Two students in Excel Sheet')\n",
    "df.tail(2)"
   ]
  },
  {
   "cell_type": "code",
   "execution_count": 15,
   "id": "c30c1eb3-5f6c-4446-a89b-ec76d77fa021",
   "metadata": {},
   "outputs": [
    {
     "name": "stdout",
     "output_type": "stream",
     "text": [
      "Last Two patients in Excel Sheet\n"
     ]
    },
    {
     "data": {
      "text/html": [
       "<div>\n",
       "<style scoped>\n",
       "    .dataframe tbody tr th:only-of-type {\n",
       "        vertical-align: middle;\n",
       "    }\n",
       "\n",
       "    .dataframe tbody tr th {\n",
       "        vertical-align: top;\n",
       "    }\n",
       "\n",
       "    .dataframe thead th {\n",
       "        text-align: right;\n",
       "    }\n",
       "</style>\n",
       "<table border=\"1\" class=\"dataframe\">\n",
       "  <thead>\n",
       "    <tr style=\"text-align: right;\">\n",
       "      <th></th>\n",
       "      <th>patient_id</th>\n",
       "      <th>name</th>\n",
       "      <th>age</th>\n",
       "      <th>arrival_date</th>\n",
       "      <th>departure_date</th>\n",
       "      <th>service</th>\n",
       "      <th>satisfaction</th>\n",
       "    </tr>\n",
       "  </thead>\n",
       "  <tbody>\n",
       "    <tr>\n",
       "      <th>995</th>\n",
       "      <td>PAT-a01bf534</td>\n",
       "      <td>Amber Vang</td>\n",
       "      <td>26</td>\n",
       "      <td>12/2/2025</td>\n",
       "      <td>12/4/2025</td>\n",
       "      <td>emergency</td>\n",
       "      <td>91</td>\n",
       "    </tr>\n",
       "    <tr>\n",
       "      <th>996</th>\n",
       "      <td>PAT-87fa07bd</td>\n",
       "      <td>Martha Smith</td>\n",
       "      <td>89</td>\n",
       "      <td>11/18/2025</td>\n",
       "      <td>11/30/2025</td>\n",
       "      <td>emergency</td>\n",
       "      <td>99</td>\n",
       "    </tr>\n",
       "    <tr>\n",
       "      <th>997</th>\n",
       "      <td>PAT-8f07e894</td>\n",
       "      <td>Jennifer James</td>\n",
       "      <td>72</td>\n",
       "      <td>12/12/2025</td>\n",
       "      <td>12/21/2025</td>\n",
       "      <td>ICU</td>\n",
       "      <td>69</td>\n",
       "    </tr>\n",
       "    <tr>\n",
       "      <th>998</th>\n",
       "      <td>PAT-4ae301e1</td>\n",
       "      <td>Kara Hernandez</td>\n",
       "      <td>47</td>\n",
       "      <td>2/8/2025</td>\n",
       "      <td>2/20/2025</td>\n",
       "      <td>ICU</td>\n",
       "      <td>61</td>\n",
       "    </tr>\n",
       "    <tr>\n",
       "      <th>999</th>\n",
       "      <td>PAT-e2ef9c5f</td>\n",
       "      <td>Lorraine Turner</td>\n",
       "      <td>64</td>\n",
       "      <td>5/4/2025</td>\n",
       "      <td>5/8/2025</td>\n",
       "      <td>general_medicine</td>\n",
       "      <td>83</td>\n",
       "    </tr>\n",
       "  </tbody>\n",
       "</table>\n",
       "</div>"
      ],
      "text/plain": [
       "       patient_id             name  age arrival_date departure_date  \\\n",
       "995  PAT-a01bf534       Amber Vang   26    12/2/2025      12/4/2025   \n",
       "996  PAT-87fa07bd     Martha Smith   89   11/18/2025     11/30/2025   \n",
       "997  PAT-8f07e894   Jennifer James   72   12/12/2025     12/21/2025   \n",
       "998  PAT-4ae301e1   Kara Hernandez   47     2/8/2025      2/20/2025   \n",
       "999  PAT-e2ef9c5f  Lorraine Turner   64     5/4/2025       5/8/2025   \n",
       "\n",
       "              service  satisfaction  \n",
       "995         emergency            91  \n",
       "996         emergency            99  \n",
       "997               ICU            69  \n",
       "998               ICU            61  \n",
       "999  general_medicine            83  "
      ]
     },
     "execution_count": 15,
     "metadata": {},
     "output_type": "execute_result"
    }
   ],
   "source": [
    "print('Last Two patients in Excel Sheet')\n",
    "dfpatients.tail(5)"
   ]
  },
  {
   "cell_type": "markdown",
   "id": "fe9d896b-6362-4643-983a-8eb0ae5f1965",
   "metadata": {},
   "source": [
    "## Shape Example"
   ]
  },
  {
   "cell_type": "code",
   "execution_count": 17,
   "id": "a5564979-0add-4905-88cc-3e8fa25dae24",
   "metadata": {},
   "outputs": [
    {
     "data": {
      "text/plain": [
       "(1000, 7)"
      ]
     },
     "execution_count": 17,
     "metadata": {},
     "output_type": "execute_result"
    }
   ],
   "source": [
    "dfpatients.shape"
   ]
  },
  {
   "cell_type": "code",
   "execution_count": 18,
   "id": "335412f9-ae6e-45b7-b65d-b3e686ed987d",
   "metadata": {},
   "outputs": [
    {
     "data": {
      "text/plain": [
       "(6, 3)"
      ]
     },
     "execution_count": 18,
     "metadata": {},
     "output_type": "execute_result"
    }
   ],
   "source": [
    "df.shape"
   ]
  },
  {
   "cell_type": "code",
   "execution_count": 22,
   "id": "04d1739b-aa51-40d8-bedc-6164d5cc8327",
   "metadata": {},
   "outputs": [
    {
     "name": "stdout",
     "output_type": "stream",
     "text": [
      "Rows: 1000 Columns: 7\n"
     ]
    }
   ],
   "source": [
    "rows,columns=dfpatients.shape\n",
    "print(f'Rows: {rows} Columns: {columns}')"
   ]
  },
  {
   "cell_type": "code",
   "execution_count": 23,
   "id": "a596df77-c93e-4f83-8613-19b8c0bc94ce",
   "metadata": {},
   "outputs": [
    {
     "name": "stdout",
     "output_type": "stream",
     "text": [
      "Rows: 6 Columns: 3\n"
     ]
    }
   ],
   "source": [
    "rows,columns=df.shape\n",
    "print(f'Rows: {rows} Columns: {columns}')"
   ]
  },
  {
   "cell_type": "markdown",
   "id": "0eaaa3b8-9527-4b44-9959-a02c72930cc7",
   "metadata": {},
   "source": [
    "# values: in dataframe"
   ]
  },
  {
   "cell_type": "code",
   "execution_count": 24,
   "id": "b4ccae3e-abfc-409a-b809-8a6c5a415dff",
   "metadata": {},
   "outputs": [
    {
     "name": "stdout",
     "output_type": "stream",
     "text": [
      "Students Values\n"
     ]
    },
    {
     "data": {
      "text/plain": [
       "array([['John', 20, 85],\n",
       "       ['Alice', 22, 90],\n",
       "       ['Bob', 21, 78],\n",
       "       ['Sara', 23, 92],\n",
       "       ['Qaiyim', 26, 90],\n",
       "       ['Intan', 25, 89]], dtype=object)"
      ]
     },
     "execution_count": 24,
     "metadata": {},
     "output_type": "execute_result"
    }
   ],
   "source": [
    "print('Students Values')\n",
    "df.values"
   ]
  },
  {
   "cell_type": "code",
   "execution_count": 25,
   "id": "f03bb49d-d3a9-4f03-a887-d26b33fad1eb",
   "metadata": {},
   "outputs": [
    {
     "name": "stdout",
     "output_type": "stream",
     "text": [
      "Patiens Values\n"
     ]
    }
   ],
   "source": [
    "print('Patiens Values')"
   ]
  },
  {
   "cell_type": "code",
   "execution_count": 26,
   "id": "6748d1fa-8dd7-4a0b-ac61-eb291a857332",
   "metadata": {},
   "outputs": [
    {
     "data": {
      "text/plain": [
       "array([['PAT-09484753', 'Richard Rodriguez', 24, ..., '3/22/2025',\n",
       "        'surgery', 61],\n",
       "       ['PAT-f0644084', 'Shannon Walker', 6, ..., '12/14/2025',\n",
       "        'surgery', 83],\n",
       "       ['PAT-ac6162e4', 'Julia Torres', 24, ..., '7/5/2025',\n",
       "        'general_medicine', 83],\n",
       "       ...,\n",
       "       ['PAT-8f07e894', 'Jennifer James', 72, ..., '12/21/2025', 'ICU',\n",
       "        69],\n",
       "       ['PAT-4ae301e1', 'Kara Hernandez', 47, ..., '2/20/2025', 'ICU',\n",
       "        61],\n",
       "       ['PAT-e2ef9c5f', 'Lorraine Turner', 64, ..., '5/8/2025',\n",
       "        'general_medicine', 83]], dtype=object)"
      ]
     },
     "execution_count": 26,
     "metadata": {},
     "output_type": "execute_result"
    }
   ],
   "source": [
    "dfpatients.values"
   ]
  },
  {
   "cell_type": "code",
   "execution_count": null,
   "id": "871241e5-dc86-4862-8b27-86c87801c3c7",
   "metadata": {},
   "outputs": [],
   "source": []
  }
 ],
 "metadata": {
  "kernelspec": {
   "display_name": "Python [conda env:base] *",
   "language": "python",
   "name": "conda-base-py"
  },
  "language_info": {
   "codemirror_mode": {
    "name": "ipython",
    "version": 3
   },
   "file_extension": ".py",
   "mimetype": "text/x-python",
   "name": "python",
   "nbconvert_exporter": "python",
   "pygments_lexer": "ipython3",
   "version": "3.13.5"
  }
 },
 "nbformat": 4,
 "nbformat_minor": 5
}
