{
 "cells": [
  {
   "cell_type": "markdown",
   "id": "5e20f209-5301-492b-8f7d-37173645e8c0",
   "metadata": {},
   "source": [
    "# Numpy Introduction and usage\n",
    "## We will use numpy in this jupyter notebook"
   ]
  },
  {
   "cell_type": "markdown",
   "id": "dd2c5ce2-244e-4813-9791-5beed2a8750b",
   "metadata": {},
   "source": [
    "## One Dimensional Array"
   ]
  },
  {
   "cell_type": "code",
   "execution_count": 1,
   "id": "d56fe060-294e-4d7b-a278-65d8a33f35cc",
   "metadata": {},
   "outputs": [],
   "source": [
    "import numpy as np"
   ]
  },
  {
   "cell_type": "code",
   "execution_count": 2,
   "id": "506c4124-5d7b-437d-bbca-3517694933ea",
   "metadata": {},
   "outputs": [],
   "source": [
    "array1=np.array([10,20,30,40,50])"
   ]
  },
  {
   "cell_type": "code",
   "execution_count": 4,
   "id": "0e288829-a983-4994-b4a5-2d89d55fe6d5",
   "metadata": {},
   "outputs": [
    {
     "name": "stdout",
     "output_type": "stream",
     "text": [
      "[10 20 30 40 50]\n"
     ]
    }
   ],
   "source": [
    "print(array1)"
   ]
  },
  {
   "cell_type": "markdown",
   "id": "9cd353fc-a1a8-4bd8-b0a1-4864b7deedd8",
   "metadata": {},
   "source": [
    "## Two dimensional Array (2-D Array)"
   ]
  },
  {
   "cell_type": "code",
   "execution_count": 7,
   "id": "adfedb70-4841-444b-a93a-aceaa4a09915",
   "metadata": {},
   "outputs": [
    {
     "name": "stdout",
     "output_type": "stream",
     "text": [
      "[[10 20 30 40 50]\n",
      " [60 70 80 80 80]]\n"
     ]
    }
   ],
   "source": [
    "array2=np.array([[10,20,30,40,50],[60,70,80,80,80]])\n",
    "print(array2)"
   ]
  },
  {
   "cell_type": "markdown",
   "id": "a41aa772-8c47-4991-b9f6-c7ccaf53f735",
   "metadata": {},
   "source": [
    "## Three Dimensional Array (3-D Array)"
   ]
  },
  {
   "cell_type": "code",
   "execution_count": 16,
   "id": "d94bc3da-3fe7-4bef-b293-14b7286dce24",
   "metadata": {},
   "outputs": [],
   "source": [
    "array3=np.array([[[10,20,30],[40,50,70]],[[90,50,70],[40,50,70]]])\n"
   ]
  },
  {
   "cell_type": "code",
   "execution_count": 17,
   "id": "94c802c2-5415-4d86-a0b5-d8a36e89be6e",
   "metadata": {},
   "outputs": [
    {
     "name": "stdout",
     "output_type": "stream",
     "text": [
      "[[[10 20 30]\n",
      "  [40 50 70]]\n",
      "\n",
      " [[90 50 70]\n",
      "  [40 50 70]]]\n"
     ]
    }
   ],
   "source": [
    "print(array3)"
   ]
  },
  {
   "cell_type": "markdown",
   "id": "ad98f7b6-61f2-440e-8f3f-d52068efc858",
   "metadata": {},
   "source": [
    "## Find out Dimension of NumPy Array"
   ]
  },
  {
   "cell_type": "code",
   "execution_count": 18,
   "id": "56278d5c-1ba1-4e3c-9120-b7cb03ff21d4",
   "metadata": {},
   "outputs": [
    {
     "name": "stdout",
     "output_type": "stream",
     "text": [
      "First Array Dimension:\t 1\n"
     ]
    }
   ],
   "source": [
    "print('First Array Dimension:\\t', array1.ndim)"
   ]
  },
  {
   "cell_type": "code",
   "execution_count": 21,
   "id": "12e1a3db-23bd-455e-bd8a-8b877ba25150",
   "metadata": {},
   "outputs": [
    {
     "name": "stdout",
     "output_type": "stream",
     "text": [
      "Second Array Dimension:\t 2\n"
     ]
    }
   ],
   "source": [
    "print('Second Array Dimension:\\t', array2.ndim)"
   ]
  },
  {
   "cell_type": "code",
   "execution_count": 20,
   "id": "e0e26476-a888-456f-8549-17a2f9308099",
   "metadata": {},
   "outputs": [
    {
     "name": "stdout",
     "output_type": "stream",
     "text": [
      "Third Array Dimension:\t 3\n"
     ]
    }
   ],
   "source": [
    "print('Third Array Dimension:\\t', array3.ndim)"
   ]
  },
  {
   "cell_type": "markdown",
   "id": "ac21be30-0f56-4380-9f36-c37cd1cc3125",
   "metadata": {},
   "source": [
    "# Write an array of 5 students marks using Numpy\n",
    "## Marks are: 80,70,75,99,89"
   ]
  },
  {
   "cell_type": "code",
   "execution_count": 22,
   "id": "3e9f9641-b9a5-49d5-bba2-4b6ba59651ac",
   "metadata": {},
   "outputs": [],
   "source": [
    "import numpy as np"
   ]
  },
  {
   "cell_type": "code",
   "execution_count": 25,
   "id": "73dc0f8e-edfb-4d03-80b5-716276af2346",
   "metadata": {},
   "outputs": [],
   "source": [
    "array_1=np.array([80,70,75,99,89])"
   ]
  },
  {
   "cell_type": "code",
   "execution_count": 27,
   "id": "37ba6e2b-5109-4f4b-800c-6c60bac91b25",
   "metadata": {},
   "outputs": [
    {
     "name": "stdout",
     "output_type": "stream",
     "text": [
      "Array of Marks\n",
      "[80 70 75 99 89]\n"
     ]
    }
   ],
   "source": [
    "print('Array of Marks')\n",
    "print(array_1)"
   ]
  },
  {
   "cell_type": "markdown",
   "id": "8febbf8a-df12-405b-ad70-252c7e9474e2",
   "metadata": {},
   "source": [
    "# Write an array to take 5 students in 3 subjects using Numpy"
   ]
  },
  {
   "cell_type": "markdown",
   "id": "80467278-750a-42e1-91d2-5ccb863896c7",
   "metadata": {},
   "source": [
    "## Math,Physics,Add Math\n",
    "## [30,45,49],[40,42,45],[60,75,45],[78,86,65],[78,45,69]"
   ]
  },
  {
   "cell_type": "code",
   "execution_count": 28,
   "id": "1de09441-2f17-48f3-b88c-f64b49373fbb",
   "metadata": {},
   "outputs": [
    {
     "name": "stdout",
     "output_type": "stream",
     "text": [
      "2-D Array example\n",
      "[[30 45 49]\n",
      " [40 42 45]\n",
      " [60 75 45]\n",
      " [78 86 65]\n",
      " [78 45 69]]\n"
     ]
    }
   ],
   "source": [
    "Array_marks_subjects=np.array([[30,45,49],[40,42,45],[60,75,45],[78,86,65],[78,45,69]])\n",
    "print('2-D Array example')\n",
    "print(Array_marks_subjects)"
   ]
  },
  {
   "cell_type": "markdown",
   "id": "4e1d51bf-9d69-43fa-99f5-705dc085d3bb",
   "metadata": {},
   "source": [
    "# Write an array to take 4 students in 3 subjects for two semester using Numpy\n",
    "## Students Name are: 'Ahmad','Qaiyim','Intan','Fatehah'\n",
    "## Math, Biology, Chemistry\n",
    "## Two semester: Sem1, Sem2\n",
    "## 4*3*2\n",
    "## ([[[80,88],[78,82][90,95]],[[80,88],[78,82][90,95]],[[80,88],[78,82][90,95]],[[80,88],[78,82][90,95]]])"
   ]
  },
  {
   "cell_type": "code",
   "execution_count": 31,
   "id": "8c5d33d9-eb45-4a94-8a21-6fdc3f8faa91",
   "metadata": {},
   "outputs": [],
   "source": [
    "mark_subject_sem=np.array([[[80,88],[78,82],[90,95]],[[90,88],[58,82],[78,95]],[[90,88],[68,82],[80,95]],[[70,88],[88,82],[90,95]]])"
   ]
  },
  {
   "cell_type": "code",
   "execution_count": 32,
   "id": "04e99037-21ef-43ca-a30a-a5d33ac7ec41",
   "metadata": {},
   "outputs": [
    {
     "name": "stdout",
     "output_type": "stream",
     "text": [
      "[[[80 88]\n",
      "  [78 82]\n",
      "  [90 95]]\n",
      "\n",
      " [[90 88]\n",
      "  [58 82]\n",
      "  [78 95]]\n",
      "\n",
      " [[90 88]\n",
      "  [68 82]\n",
      "  [80 95]]\n",
      "\n",
      " [[70 88]\n",
      "  [88 82]\n",
      "  [90 95]]]\n"
     ]
    }
   ],
   "source": [
    "print(mark_subject_sem)"
   ]
  },
  {
   "cell_type": "markdown",
   "id": "11f6a5e5-7f52-401b-816f-03c0253462cb",
   "metadata": {},
   "source": [
    "# Write an array to take wheater of 2 cities in 3 days for three times in a day,noon,eveningusing Numpy\n",
    "    ## Cities Name are: 'Sungai Petani,'Alor Setar','Langkawi'\n",
    "    ## Friday,Saturday,Sunday\n",
    "    ## Three Time slot: Morning, Noon, Evening\n",
    "## Create one 3D array for this numpy"
   ]
  },
  {
   "cell_type": "code",
   "execution_count": 36,
   "id": "b98be40c-bb9c-4368-b08c-57afbabd65a4",
   "metadata": {},
   "outputs": [],
   "source": [
    "array_cities_day=np.array([[['Rain','Cloudy','Windy'],['Rain','Rain','Windy'],['Cloudy','Cloudy','Windy']],[['Snow','Cloudy','Rainy'],['Cloudy','Rain','Windy'],['Cloudy','Cloudy','Snow']]])"
   ]
  },
  {
   "cell_type": "code",
   "execution_count": 37,
   "id": "485da2a8-f20a-4eda-baf0-ab203b3d3139",
   "metadata": {},
   "outputs": [
    {
     "name": "stdout",
     "output_type": "stream",
     "text": [
      "[[['Rain' 'Cloudy' 'Windy']\n",
      "  ['Rain' 'Rain' 'Windy']\n",
      "  ['Cloudy' 'Cloudy' 'Windy']]\n",
      "\n",
      " [['Snow' 'Cloudy' 'Rainy']\n",
      "  ['Cloudy' 'Rain' 'Windy']\n",
      "  ['Cloudy' 'Cloudy' 'Snow']]]\n"
     ]
    }
   ],
   "source": [
    "print(array_cities_day)"
   ]
  },
  {
   "cell_type": "markdown",
   "id": "9becc826-b2ed-4208-901d-838f2841a71f",
   "metadata": {},
   "source": [
    "# Basic Information\n",
    "    ## shape: rowns and colums\n",
    "    ## Size: number of elements\n",
    "    ## Dimension: return dimension 1,2,3\n",
    "    ## Data type: return stored data values type"
   ]
  },
  {
   "cell_type": "code",
   "execution_count": 38,
   "id": "aa2e9c23-82fe-4252-853f-1a8eac55e560",
   "metadata": {},
   "outputs": [
    {
     "name": "stdout",
     "output_type": "stream",
     "text": [
      "[10 20 30 40 50]\n"
     ]
    }
   ],
   "source": [
    "print(array1)"
   ]
  },
  {
   "cell_type": "code",
   "execution_count": 39,
   "id": "4b9b04be-7d27-4c5f-a4cc-ddcb2c16c700",
   "metadata": {},
   "outputs": [
    {
     "name": "stdout",
     "output_type": "stream",
     "text": [
      "Shape of array1:  (5,)\n"
     ]
    }
   ],
   "source": [
    "print('Shape of array1: ',array1.shape)"
   ]
  },
  {
   "cell_type": "code",
   "execution_count": 41,
   "id": "d13bfd63-3e25-47da-b432-cb0c5c9b79c3",
   "metadata": {},
   "outputs": [
    {
     "name": "stdout",
     "output_type": "stream",
     "text": [
      "Size of array1:  5\n"
     ]
    }
   ],
   "source": [
    "print('Size of array1: ',array1.size)"
   ]
  },
  {
   "cell_type": "code",
   "execution_count": 42,
   "id": "56c1b78c-6db8-486f-a4d3-c43e5a333e9e",
   "metadata": {},
   "outputs": [
    {
     "name": "stdout",
     "output_type": "stream",
     "text": [
      "Data Type:  int64\n"
     ]
    }
   ],
   "source": [
    "print('Data Type: ',array1.dtype)"
   ]
  },
  {
   "cell_type": "code",
   "execution_count": 43,
   "id": "f3ffeea7-46ac-497d-a8cf-88f28e88b389",
   "metadata": {},
   "outputs": [
    {
     "name": "stdout",
     "output_type": "stream",
     "text": [
      "Dimension Type:  1\n"
     ]
    }
   ],
   "source": [
    "print('Dimension Type: ',array1.ndim)"
   ]
  },
  {
   "cell_type": "code",
   "execution_count": 44,
   "id": "c5261e72-80af-45cc-9943-714d4a3265b4",
   "metadata": {},
   "outputs": [],
   "source": [
    "students=np.array(['Ahmad','Qaiyim','Intan','Fatehah'])"
   ]
  },
  {
   "cell_type": "code",
   "execution_count": 45,
   "id": "fb10f1a1-f2bd-49f5-815d-f442959adc1d",
   "metadata": {},
   "outputs": [
    {
     "name": "stdout",
     "output_type": "stream",
     "text": [
      "['Ahmad' 'Qaiyim' 'Intan' 'Fatehah']\n"
     ]
    }
   ],
   "source": [
    "print(students)"
   ]
  },
  {
   "cell_type": "code",
   "execution_count": 46,
   "id": "9291bbed-19be-444b-baf2-f57a24e105fc",
   "metadata": {},
   "outputs": [
    {
     "name": "stdout",
     "output_type": "stream",
     "text": [
      "Shape of students:  (4,)\n"
     ]
    }
   ],
   "source": [
    "print('Shape of students: ',students.shape)"
   ]
  },
  {
   "cell_type": "code",
   "execution_count": 47,
   "id": "93924ba6-0a11-4e75-a00c-3b355d85b6aa",
   "metadata": {},
   "outputs": [
    {
     "name": "stdout",
     "output_type": "stream",
     "text": [
      "Size of students:  4\n"
     ]
    }
   ],
   "source": [
    "print('Size of students: ',students.size)"
   ]
  },
  {
   "cell_type": "code",
   "execution_count": 48,
   "id": "beb44afa-7e6a-45c4-b409-a4411c3e4d2f",
   "metadata": {},
   "outputs": [
    {
     "name": "stdout",
     "output_type": "stream",
     "text": [
      "Data Type:  <U7\n"
     ]
    }
   ],
   "source": [
    "print('Data Type: ',students.dtype)"
   ]
  },
  {
   "cell_type": "code",
   "execution_count": 49,
   "id": "975a2526-1942-4a5d-afd6-98c08c7389b8",
   "metadata": {},
   "outputs": [
    {
     "name": "stdout",
     "output_type": "stream",
     "text": [
      "Dimension Type:  1\n"
     ]
    }
   ],
   "source": [
    "print('Dimension Type: ',students.ndim)"
   ]
  },
  {
   "cell_type": "code",
   "execution_count": null,
   "id": "962acf8d-1c4e-4275-9ac3-f34798aec0db",
   "metadata": {},
   "outputs": [],
   "source": []
  }
 ],
 "metadata": {
  "kernelspec": {
   "display_name": "Python [conda env:base] *",
   "language": "python",
   "name": "conda-base-py"
  },
  "language_info": {
   "codemirror_mode": {
    "name": "ipython",
    "version": 3
   },
   "file_extension": ".py",
   "mimetype": "text/x-python",
   "name": "python",
   "nbconvert_exporter": "python",
   "pygments_lexer": "ipython3",
   "version": "3.13.5"
  }
 },
 "nbformat": 4,
 "nbformat_minor": 5
}
