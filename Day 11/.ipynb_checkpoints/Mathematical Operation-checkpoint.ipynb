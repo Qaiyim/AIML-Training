{
 "cells": [
  {
   "cell_type": "markdown",
   "id": "670fecf8-efaf-44b6-8bfd-190d0806da9a",
   "metadata": {},
   "source": [
    "# Mathematical Operation"
   ]
  },
  {
   "cell_type": "code",
   "execution_count": 2,
   "id": "993c637e-c01a-4626-bd58-914be33dc7f5",
   "metadata": {},
   "outputs": [],
   "source": [
    "import numpy as np"
   ]
  },
  {
   "cell_type": "code",
   "execution_count": 3,
   "id": "127276a6-9e9c-4a11-a450-777a94a3500c",
   "metadata": {},
   "outputs": [],
   "source": [
    "array1=np.array([10,20,30,40,50])"
   ]
  },
  {
   "cell_type": "code",
   "execution_count": 4,
   "id": "bc0e9310-65b5-43df-8743-7bc3d4526431",
   "metadata": {},
   "outputs": [],
   "source": [
    "total=np.sum(array1)"
   ]
  },
  {
   "cell_type": "code",
   "execution_count": 5,
   "id": "1702c5b2-711e-4083-906f-85caa98e5e59",
   "metadata": {},
   "outputs": [
    {
     "name": "stdout",
     "output_type": "stream",
     "text": [
      "150\n"
     ]
    }
   ],
   "source": [
    "print(total)"
   ]
  },
  {
   "cell_type": "code",
   "execution_count": 8,
   "id": "89089a88-25c9-4a21-9a33-1518b282b958",
   "metadata": {},
   "outputs": [
    {
     "name": "stdout",
     "output_type": "stream",
     "text": [
      "Mean:  30.0\n"
     ]
    }
   ],
   "source": [
    "print('Mean: ',np.mean(array1))"
   ]
  },
  {
   "cell_type": "code",
   "execution_count": 9,
   "id": "dc2be93a-b254-4014-97fa-5aa50f7e0ec4",
   "metadata": {},
   "outputs": [
    {
     "name": "stdout",
     "output_type": "stream",
     "text": [
      "Min:  10\n"
     ]
    }
   ],
   "source": [
    "print('Min: ',np.min(array1))"
   ]
  },
  {
   "cell_type": "code",
   "execution_count": 10,
   "id": "4120f36e-1a9b-4c2f-95d7-14b89a707e4c",
   "metadata": {},
   "outputs": [
    {
     "name": "stdout",
     "output_type": "stream",
     "text": [
      "Max:  50\n"
     ]
    }
   ],
   "source": [
    "print('Max: ',np.max(array1))"
   ]
  },
  {
   "cell_type": "code",
   "execution_count": 11,
   "id": "54548e26-c858-4da8-8340-8d811b931063",
   "metadata": {},
   "outputs": [
    {
     "name": "stdout",
     "output_type": "stream",
     "text": [
      "Index of Min:  0\n"
     ]
    }
   ],
   "source": [
    "print('Index of Min: ',np.argmin(array1))"
   ]
  },
  {
   "cell_type": "code",
   "execution_count": 13,
   "id": "a3823179-285f-4449-80d9-84d07d908085",
   "metadata": {},
   "outputs": [
    {
     "name": "stdout",
     "output_type": "stream",
     "text": [
      "Index of Max:  4\n"
     ]
    }
   ],
   "source": [
    "print('Index of Max: ',np.argmax(array1))"
   ]
  },
  {
   "cell_type": "code",
   "execution_count": 16,
   "id": "96e3068a-8068-4cdf-bfc0-f9f04d4532fa",
   "metadata": {},
   "outputs": [],
   "source": [
    "my_array=np.array([100,200,300,400,500,700,800,450])"
   ]
  },
  {
   "cell_type": "code",
   "execution_count": 17,
   "id": "419fdbf8-f6d4-4005-afbd-6743b6609ba8",
   "metadata": {},
   "outputs": [
    {
     "name": "stdout",
     "output_type": "stream",
     "text": [
      "[100 200 300 400 500 700 800 450]\n"
     ]
    }
   ],
   "source": [
    "print(my_array)"
   ]
  },
  {
   "cell_type": "markdown",
   "id": "d0357cc1-b884-43a7-a4d1-9186d61e2d70",
   "metadata": {},
   "source": [
    "# Searching and sorting example in 1 D array"
   ]
  },
  {
   "cell_type": "code",
   "execution_count": 18,
   "id": "35b686f0-7a81-4b80-ac9a-238fa65b394f",
   "metadata": {},
   "outputs": [],
   "source": [
    "sorted_array=np.sort(my_array)"
   ]
  },
  {
   "cell_type": "code",
   "execution_count": 21,
   "id": "9a647efa-8092-40d5-b21c-bb12ef6e706b",
   "metadata": {},
   "outputs": [
    {
     "name": "stdout",
     "output_type": "stream",
     "text": [
      "**Sorted Array**\n",
      "[100 200 300 400 450 500 700 800]\n"
     ]
    }
   ],
   "source": [
    "print('**Sorted Array**')\n",
    "print(sorted_array)"
   ]
  },
  {
   "cell_type": "code",
   "execution_count": 23,
   "id": "33e16624-d1db-4996-8958-a484c6a478bd",
   "metadata": {},
   "outputs": [
    {
     "name": "stdout",
     "output_type": "stream",
     "text": [
      "Is there any item greater tha 400?:  True\n"
     ]
    }
   ],
   "source": [
    "print('Is there any item greater tha 400?: ',np.any(sorted_array>400))"
   ]
  },
  {
   "cell_type": "code",
   "execution_count": 24,
   "id": "94d1d3c4-2c10-457f-ade1-ffd3b56edc35",
   "metadata": {},
   "outputs": [
    {
     "name": "stdout",
     "output_type": "stream",
     "text": [
      "All greater than 500?:  False\n"
     ]
    }
   ],
   "source": [
    "print('All greater than 500?: ',np.all(sorted_array>500))"
   ]
  },
  {
   "cell_type": "code",
   "execution_count": 26,
   "id": "8ec9d623-9694-4069-991b-8fd872115257",
   "metadata": {},
   "outputs": [
    {
     "name": "stdout",
     "output_type": "stream",
     "text": [
      "Where values >400 (array([4, 5, 6, 7]),)\n"
     ]
    }
   ],
   "source": [
    "print('Where values >400',np.where(sorted_array>400))"
   ]
  },
  {
   "cell_type": "code",
   "execution_count": 27,
   "id": "13545526-f998-4dff-b6fd-082932b342ca",
   "metadata": {},
   "outputs": [
    {
     "name": "stdout",
     "output_type": "stream",
     "text": [
      "All number than 500\n",
      "[6 7]\n"
     ]
    }
   ],
   "source": [
    "print('All number than 500')\n",
    "for num in np.where(sorted_array>500):\n",
    "    print(num)"
   ]
  },
  {
   "cell_type": "code",
   "execution_count": 30,
   "id": "d7f381c5-7f96-4448-8080-5f593fd37179",
   "metadata": {},
   "outputs": [
    {
     "name": "stdout",
     "output_type": "stream",
     "text": [
      "All number than 500\n",
      "False\n",
      "False\n",
      "False\n",
      "False\n",
      "False\n",
      "False\n",
      "True\n",
      "True\n"
     ]
    }
   ],
   "source": [
    "print('All number than 500')\n",
    "for num in sorted_array>500:\n",
    "    print(num)"
   ]
  },
  {
   "cell_type": "code",
   "execution_count": 33,
   "id": "26210ffa-f553-4510-a412-4611f3202516",
   "metadata": {},
   "outputs": [],
   "source": [
    "selected_values=sorted_array[sorted_array>500]"
   ]
  },
  {
   "cell_type": "code",
   "execution_count": 34,
   "id": "8fb2443b-ace0-4c59-b95c-738d79dce784",
   "metadata": {},
   "outputs": [
    {
     "name": "stdout",
     "output_type": "stream",
     "text": [
      "[700 800]\n"
     ]
    }
   ],
   "source": [
    "print(selected_values)"
   ]
  },
  {
   "cell_type": "code",
   "execution_count": 35,
   "id": "512570ed-53e0-43d8-b545-b4789f198ec6",
   "metadata": {},
   "outputs": [
    {
     "name": "stdout",
     "output_type": "stream",
     "text": [
      "All number than 500\n",
      "700\n",
      "800\n"
     ]
    }
   ],
   "source": [
    "print('All number than 500')\n",
    "for num in selected_values:\n",
    "    print(num)"
   ]
  },
  {
   "cell_type": "code",
   "execution_count": 36,
   "id": "ac7583d0-5097-48b9-84d8-6413d755e777",
   "metadata": {},
   "outputs": [
    {
     "name": "stdout",
     "output_type": "stream",
     "text": [
      "  [700 800]\n"
     ]
    }
   ],
   "source": [
    "print(' ',sorted_array[sorted_array>500])"
   ]
  },
  {
   "cell_type": "markdown",
   "id": "8892e5f5-769c-4067-bf04-b635c48eeca9",
   "metadata": {},
   "source": [
    "# Slicing 1 D Array\n",
    "    ## To take elements from starting to end of index\n",
    "    ## e.g. [start:end]"
   ]
  },
  {
   "cell_type": "code",
   "execution_count": 44,
   "id": "380062ba-fccf-451f-8cb3-9cb26050381a",
   "metadata": {},
   "outputs": [
    {
     "name": "stdout",
     "output_type": "stream",
     "text": [
      "[100 200 300 400 500 700 800 450]\n"
     ]
    }
   ],
   "source": [
    "print(my_array)"
   ]
  },
  {
   "cell_type": "code",
   "execution_count": 49,
   "id": "f87a1d42-6f6b-4479-8919-f90c5aadf49f",
   "metadata": {},
   "outputs": [
    {
     "name": "stdout",
     "output_type": "stream",
     "text": [
      "[200 300 400]\n"
     ]
    }
   ],
   "source": [
    "slice_my_array=my_array[1:4]\n",
    "print(slice_my_array)"
   ]
  },
  {
   "cell_type": "markdown",
   "id": "e964b649-771f-40a5-94b6-7bf3db05b812",
   "metadata": {},
   "source": [
    "# Starting from an index and going till last"
   ]
  },
  {
   "cell_type": "code",
   "execution_count": 40,
   "id": "99bb7a5b-f579-4880-9780-77708afbf855",
   "metadata": {},
   "outputs": [
    {
     "name": "stdout",
     "output_type": "stream",
     "text": [
      "[100 200 300 400 500 700 800 450]\n"
     ]
    }
   ],
   "source": [
    "print(my_array)"
   ]
  },
  {
   "cell_type": "code",
   "execution_count": 43,
   "id": "d7a3d139-77f0-4132-adb1-1e2cea450df2",
   "metadata": {},
   "outputs": [
    {
     "name": "stdout",
     "output_type": "stream",
     "text": [
      "[400 500 700 800 450]\n"
     ]
    }
   ],
   "source": [
    "print(my_array[3:])"
   ]
  },
  {
   "cell_type": "markdown",
   "id": "50e89b69-0c82-4acc-b6ac-c2f6ab60b44b",
   "metadata": {},
   "source": [
    "# Step\n",
    "    ## [Start:end:step]\n",
    "    ## Step: every step element"
   ]
  },
  {
   "cell_type": "code",
   "execution_count": 50,
   "id": "fbc9985b-fbf1-41dd-a48e-0b0efb03a1e0",
   "metadata": {},
   "outputs": [
    {
     "name": "stdout",
     "output_type": "stream",
     "text": [
      "[200 400 500]\n"
     ]
    }
   ],
   "source": [
    "our_slice=sorted_array[1:6:2]\n",
    "print(our_slice)"
   ]
  },
  {
   "cell_type": "code",
   "execution_count": 51,
   "id": "375a9c4e-face-4d03-a20c-92275c508e94",
   "metadata": {},
   "outputs": [
    {
     "name": "stdout",
     "output_type": "stream",
     "text": [
      "Original Array\n",
      "[100 200 300 400 450 500 700 800]\n"
     ]
    }
   ],
   "source": [
    "print('Original Array')\n",
    "print(sorted_array)"
   ]
  },
  {
   "cell_type": "code",
   "execution_count": 53,
   "id": "d7194793-2dab-4cbd-92fc-c729e43ff597",
   "metadata": {},
   "outputs": [
    {
     "name": "stdout",
     "output_type": "stream",
     "text": [
      "Every Third Element\n",
      "[100 400 700]\n"
     ]
    }
   ],
   "source": [
    "print('Every Third Element')\n",
    "every_third_element=sorted_array[::3]\n",
    "print(every_third_element)"
   ]
  },
  {
   "cell_type": "markdown",
   "id": "2a89fe11-cf71-4a09-be76-d686a918f181",
   "metadata": {},
   "source": [
    "# Slice Reverse"
   ]
  },
  {
   "cell_type": "code",
   "execution_count": 54,
   "id": "df943be6-4a76-44e7-85de-639d8db2091b",
   "metadata": {},
   "outputs": [
    {
     "name": "stdout",
     "output_type": "stream",
     "text": [
      "Original Array\n",
      "[100 200 300 400 450 500 700 800]\n",
      "Reverse Array:  [800 700 500 450 400 300 200 100]\n"
     ]
    }
   ],
   "source": [
    "print('Original Array')\n",
    "print(sorted_array)\n",
    "print('Reverse Array: ',sorted_array[::-1])"
   ]
  },
  {
   "cell_type": "code",
   "execution_count": 58,
   "id": "4acb9b92-3062-4a61-a511-adba25e4bdd6",
   "metadata": {},
   "outputs": [
    {
     "name": "stdout",
     "output_type": "stream",
     "text": [
      "Last five elements:\n",
      "[400 450 500 700 800]\n"
     ]
    }
   ],
   "source": [
    "print('Last five elements:')\n",
    "print(sorted_array[-5::])"
   ]
  },
  {
   "cell_type": "code",
   "execution_count": 60,
   "id": "67450328-14ca-427b-b109-08436ea59a54",
   "metadata": {},
   "outputs": [
    {
     "name": "stdout",
     "output_type": "stream",
     "text": [
      "Slicing Done\n"
     ]
    }
   ],
   "source": [
    "print('Slicing Done')"
   ]
  },
  {
   "cell_type": "code",
   "execution_count": null,
   "id": "8fec3767-b96b-48f2-b8d7-eb11de46c0cd",
   "metadata": {},
   "outputs": [],
   "source": []
  }
 ],
 "metadata": {
  "kernelspec": {
   "display_name": "Python [conda env:base] *",
   "language": "python",
   "name": "conda-base-py"
  },
  "language_info": {
   "codemirror_mode": {
    "name": "ipython",
    "version": 3
   },
   "file_extension": ".py",
   "mimetype": "text/x-python",
   "name": "python",
   "nbconvert_exporter": "python",
   "pygments_lexer": "ipython3",
   "version": "3.13.5"
  }
 },
 "nbformat": 4,
 "nbformat_minor": 5
}
